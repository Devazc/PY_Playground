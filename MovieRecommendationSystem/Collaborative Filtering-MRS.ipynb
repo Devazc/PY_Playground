{
  "cells": [
    {
      "cell_type": "markdown",
      "metadata": {
        "id": "52K9aJdT_Lsl"
      },
      "source": [
        "**Movie Recomendation System**"
      ]
    },
    {
      "cell_type": "code",
      "execution_count": null,
      "metadata": {
        "id": "NbE0NKE0_Lso"
      },
      "outputs": [],
      "source": [
        "import numpy as np\n",
        "import pandas as pd"
      ]
    },
    {
      "cell_type": "code",
      "execution_count": null,
      "metadata": {
        "id": "g9YePjy4_Lsr",
        "outputId": "30a42a5c-ed39-4b51-8a29-d52963f03704"
      },
      "outputs": [
        {
          "data": {
            "text/html": [
              "<div>\n",
              "<style scoped>\n",
              "    .dataframe tbody tr th:only-of-type {\n",
              "        vertical-align: middle;\n",
              "    }\n",
              "\n",
              "    .dataframe tbody tr th {\n",
              "        vertical-align: top;\n",
              "    }\n",
              "\n",
              "    .dataframe thead th {\n",
              "        text-align: right;\n",
              "    }\n",
              "</style>\n",
              "<table border=\"1\" class=\"dataframe\">\n",
              "  <thead>\n",
              "    <tr style=\"text-align: right;\">\n",
              "      <th></th>\n",
              "      <th>movieId</th>\n",
              "      <th>imdbId</th>\n",
              "      <th>tmdbId</th>\n",
              "    </tr>\n",
              "  </thead>\n",
              "  <tbody>\n",
              "    <tr>\n",
              "      <th>0</th>\n",
              "      <td>1</td>\n",
              "      <td>114709</td>\n",
              "      <td>862.0</td>\n",
              "    </tr>\n",
              "    <tr>\n",
              "      <th>1</th>\n",
              "      <td>2</td>\n",
              "      <td>113497</td>\n",
              "      <td>8844.0</td>\n",
              "    </tr>\n",
              "    <tr>\n",
              "      <th>2</th>\n",
              "      <td>3</td>\n",
              "      <td>113228</td>\n",
              "      <td>15602.0</td>\n",
              "    </tr>\n",
              "    <tr>\n",
              "      <th>3</th>\n",
              "      <td>4</td>\n",
              "      <td>114885</td>\n",
              "      <td>31357.0</td>\n",
              "    </tr>\n",
              "    <tr>\n",
              "      <th>4</th>\n",
              "      <td>5</td>\n",
              "      <td>113041</td>\n",
              "      <td>11862.0</td>\n",
              "    </tr>\n",
              "  </tbody>\n",
              "</table>\n",
              "</div>"
            ],
            "text/plain": [
              "   movieId  imdbId   tmdbId\n",
              "0        1  114709    862.0\n",
              "1        2  113497   8844.0\n",
              "2        3  113228  15602.0\n",
              "3        4  114885  31357.0\n",
              "4        5  113041  11862.0"
            ]
          },
          "execution_count": 2,
          "metadata": {},
          "output_type": "execute_result"
        }
      ],
      "source": [
        "links_df = pd.read_csv('D:\\Code Here\\Python Projects\\Movie Recomendation System\\MovieRecommender-main\\data\\links.csv')\n",
        "links_df.head()"
      ]
    },
    {
      "cell_type": "code",
      "execution_count": null,
      "metadata": {
        "id": "5jkaRPS0_Lss",
        "outputId": "f4d0eb9d-e8a0-4626-e37e-33f87093f37e"
      },
      "outputs": [
        {
          "data": {
            "text/html": [
              "<div>\n",
              "<style scoped>\n",
              "    .dataframe tbody tr th:only-of-type {\n",
              "        vertical-align: middle;\n",
              "    }\n",
              "\n",
              "    .dataframe tbody tr th {\n",
              "        vertical-align: top;\n",
              "    }\n",
              "\n",
              "    .dataframe thead th {\n",
              "        text-align: right;\n",
              "    }\n",
              "</style>\n",
              "<table border=\"1\" class=\"dataframe\">\n",
              "  <thead>\n",
              "    <tr style=\"text-align: right;\">\n",
              "      <th></th>\n",
              "      <th>movieId</th>\n",
              "      <th>title</th>\n",
              "      <th>genres</th>\n",
              "    </tr>\n",
              "  </thead>\n",
              "  <tbody>\n",
              "    <tr>\n",
              "      <th>0</th>\n",
              "      <td>1</td>\n",
              "      <td>Toy Story (1995)</td>\n",
              "      <td>Adventure|Animation|Children|Comedy|Fantasy</td>\n",
              "    </tr>\n",
              "    <tr>\n",
              "      <th>1</th>\n",
              "      <td>2</td>\n",
              "      <td>Jumanji (1995)</td>\n",
              "      <td>Adventure|Children|Fantasy</td>\n",
              "    </tr>\n",
              "    <tr>\n",
              "      <th>2</th>\n",
              "      <td>3</td>\n",
              "      <td>Grumpier Old Men (1995)</td>\n",
              "      <td>Comedy|Romance</td>\n",
              "    </tr>\n",
              "    <tr>\n",
              "      <th>3</th>\n",
              "      <td>4</td>\n",
              "      <td>Waiting to Exhale (1995)</td>\n",
              "      <td>Comedy|Drama|Romance</td>\n",
              "    </tr>\n",
              "    <tr>\n",
              "      <th>4</th>\n",
              "      <td>5</td>\n",
              "      <td>Father of the Bride Part II (1995)</td>\n",
              "      <td>Comedy</td>\n",
              "    </tr>\n",
              "  </tbody>\n",
              "</table>\n",
              "</div>"
            ],
            "text/plain": [
              "   movieId                               title  \\\n",
              "0        1                    Toy Story (1995)   \n",
              "1        2                      Jumanji (1995)   \n",
              "2        3             Grumpier Old Men (1995)   \n",
              "3        4            Waiting to Exhale (1995)   \n",
              "4        5  Father of the Bride Part II (1995)   \n",
              "\n",
              "                                        genres  \n",
              "0  Adventure|Animation|Children|Comedy|Fantasy  \n",
              "1                   Adventure|Children|Fantasy  \n",
              "2                               Comedy|Romance  \n",
              "3                         Comedy|Drama|Romance  \n",
              "4                                       Comedy  "
            ]
          },
          "execution_count": 3,
          "metadata": {},
          "output_type": "execute_result"
        }
      ],
      "source": [
        "movies_df = pd.read_csv('D:\\Code Here\\Python Projects\\Movie Recomendation System\\MovieRecommender-main\\data\\movies.csv')\n",
        "movies_df.head()"
      ]
    },
    {
      "cell_type": "code",
      "execution_count": null,
      "metadata": {
        "id": "g8uki6YD_Lsu",
        "outputId": "80f5b3f2-0565-41ee-f9a5-b2a0bbaaeffb"
      },
      "outputs": [
        {
          "data": {
            "text/html": [
              "<div>\n",
              "<style scoped>\n",
              "    .dataframe tbody tr th:only-of-type {\n",
              "        vertical-align: middle;\n",
              "    }\n",
              "\n",
              "    .dataframe tbody tr th {\n",
              "        vertical-align: top;\n",
              "    }\n",
              "\n",
              "    .dataframe thead th {\n",
              "        text-align: right;\n",
              "    }\n",
              "</style>\n",
              "<table border=\"1\" class=\"dataframe\">\n",
              "  <thead>\n",
              "    <tr style=\"text-align: right;\">\n",
              "      <th></th>\n",
              "      <th>userId</th>\n",
              "      <th>movieId</th>\n",
              "      <th>rating</th>\n",
              "      <th>timestamp</th>\n",
              "    </tr>\n",
              "  </thead>\n",
              "  <tbody>\n",
              "    <tr>\n",
              "      <th>0</th>\n",
              "      <td>1</td>\n",
              "      <td>1</td>\n",
              "      <td>4.0</td>\n",
              "      <td>964982703</td>\n",
              "    </tr>\n",
              "    <tr>\n",
              "      <th>1</th>\n",
              "      <td>1</td>\n",
              "      <td>3</td>\n",
              "      <td>4.0</td>\n",
              "      <td>964981247</td>\n",
              "    </tr>\n",
              "    <tr>\n",
              "      <th>2</th>\n",
              "      <td>1</td>\n",
              "      <td>6</td>\n",
              "      <td>4.0</td>\n",
              "      <td>964982224</td>\n",
              "    </tr>\n",
              "    <tr>\n",
              "      <th>3</th>\n",
              "      <td>1</td>\n",
              "      <td>47</td>\n",
              "      <td>5.0</td>\n",
              "      <td>964983815</td>\n",
              "    </tr>\n",
              "    <tr>\n",
              "      <th>4</th>\n",
              "      <td>1</td>\n",
              "      <td>50</td>\n",
              "      <td>5.0</td>\n",
              "      <td>964982931</td>\n",
              "    </tr>\n",
              "  </tbody>\n",
              "</table>\n",
              "</div>"
            ],
            "text/plain": [
              "   userId  movieId  rating  timestamp\n",
              "0       1        1     4.0  964982703\n",
              "1       1        3     4.0  964981247\n",
              "2       1        6     4.0  964982224\n",
              "3       1       47     5.0  964983815\n",
              "4       1       50     5.0  964982931"
            ]
          },
          "execution_count": 6,
          "metadata": {},
          "output_type": "execute_result"
        }
      ],
      "source": [
        "ratings_df = pd.read_csv('D:\\Code Here\\Python Projects\\Movie Recomendation System\\MovieRecommender-main\\data\\movieratings.csv')\n",
        "ratings_df.head()"
      ]
    },
    {
      "cell_type": "code",
      "execution_count": null,
      "metadata": {
        "id": "JIEnuv-i_Lsv",
        "outputId": "addfb411-4a8d-4c54-acae-422f6197799f"
      },
      "outputs": [
        {
          "data": {
            "text/html": [
              "<div>\n",
              "<style scoped>\n",
              "    .dataframe tbody tr th:only-of-type {\n",
              "        vertical-align: middle;\n",
              "    }\n",
              "\n",
              "    .dataframe tbody tr th {\n",
              "        vertical-align: top;\n",
              "    }\n",
              "\n",
              "    .dataframe thead th {\n",
              "        text-align: right;\n",
              "    }\n",
              "</style>\n",
              "<table border=\"1\" class=\"dataframe\">\n",
              "  <thead>\n",
              "    <tr style=\"text-align: right;\">\n",
              "      <th></th>\n",
              "      <th>userId</th>\n",
              "      <th>movieId</th>\n",
              "      <th>tag</th>\n",
              "      <th>timestamp</th>\n",
              "    </tr>\n",
              "  </thead>\n",
              "  <tbody>\n",
              "    <tr>\n",
              "      <th>0</th>\n",
              "      <td>2</td>\n",
              "      <td>60756</td>\n",
              "      <td>funny</td>\n",
              "      <td>1445714994</td>\n",
              "    </tr>\n",
              "    <tr>\n",
              "      <th>1</th>\n",
              "      <td>2</td>\n",
              "      <td>60756</td>\n",
              "      <td>Highly quotable</td>\n",
              "      <td>1445714996</td>\n",
              "    </tr>\n",
              "    <tr>\n",
              "      <th>2</th>\n",
              "      <td>2</td>\n",
              "      <td>60756</td>\n",
              "      <td>will ferrell</td>\n",
              "      <td>1445714992</td>\n",
              "    </tr>\n",
              "    <tr>\n",
              "      <th>3</th>\n",
              "      <td>2</td>\n",
              "      <td>89774</td>\n",
              "      <td>Boxing story</td>\n",
              "      <td>1445715207</td>\n",
              "    </tr>\n",
              "    <tr>\n",
              "      <th>4</th>\n",
              "      <td>2</td>\n",
              "      <td>89774</td>\n",
              "      <td>MMA</td>\n",
              "      <td>1445715200</td>\n",
              "    </tr>\n",
              "  </tbody>\n",
              "</table>\n",
              "</div>"
            ],
            "text/plain": [
              "   userId  movieId              tag   timestamp\n",
              "0       2    60756            funny  1445714994\n",
              "1       2    60756  Highly quotable  1445714996\n",
              "2       2    60756     will ferrell  1445714992\n",
              "3       2    89774     Boxing story  1445715207\n",
              "4       2    89774              MMA  1445715200"
            ]
          },
          "execution_count": 8,
          "metadata": {},
          "output_type": "execute_result"
        }
      ],
      "source": [
        "tags_df = pd.read_csv('D:\\Code Here\\Python Projects\\Movie Recomendation System\\MovieRecommender-main\\data\\movietags.csv')\n",
        "tags_df.head()"
      ]
    },
    {
      "cell_type": "markdown",
      "metadata": {
        "id": "k5-uQl3D_Lsx"
      },
      "source": [
        "**Collabrative Filtering**\n",
        "\n",
        "Let's go on the assumption that if person $A$ likes movies $M_0, M_1, ..., M_i$,\n",
        "then there goes person $B$ who likes one or more movies from $M_i$ let's call them $M_j$.\n",
        "\n",
        "This would mean that $A$ and $B$ has a movie that they both liked, therefore other movies from both $M_j$ and $M_i$ can be liked by both $A$ and $B$ with high probability.\n",
        "\n",
        "------------------"
      ]
    },
    {
      "cell_type": "code",
      "execution_count": null,
      "metadata": {
        "id": "PxbH_0Yj_Lsz",
        "outputId": "eb7ac838-6671-408d-9a03-cf2ebd8ff962"
      },
      "outputs": [
        {
          "data": {
            "text/html": [
              "<div>\n",
              "<style scoped>\n",
              "    .dataframe tbody tr th:only-of-type {\n",
              "        vertical-align: middle;\n",
              "    }\n",
              "\n",
              "    .dataframe tbody tr th {\n",
              "        vertical-align: top;\n",
              "    }\n",
              "\n",
              "    .dataframe thead th {\n",
              "        text-align: right;\n",
              "    }\n",
              "</style>\n",
              "<table border=\"1\" class=\"dataframe\">\n",
              "  <thead>\n",
              "    <tr style=\"text-align: right;\">\n",
              "      <th></th>\n",
              "      <th>movieId</th>\n",
              "      <th>title</th>\n",
              "      <th>genres</th>\n",
              "      <th>userId</th>\n",
              "      <th>rating</th>\n",
              "      <th>timestamp</th>\n",
              "    </tr>\n",
              "  </thead>\n",
              "  <tbody>\n",
              "    <tr>\n",
              "      <th>0</th>\n",
              "      <td>1</td>\n",
              "      <td>Toy Story (1995)</td>\n",
              "      <td>Adventure|Animation|Children|Comedy|Fantasy</td>\n",
              "      <td>1</td>\n",
              "      <td>4.0</td>\n",
              "      <td>964982703</td>\n",
              "    </tr>\n",
              "    <tr>\n",
              "      <th>1</th>\n",
              "      <td>1</td>\n",
              "      <td>Toy Story (1995)</td>\n",
              "      <td>Adventure|Animation|Children|Comedy|Fantasy</td>\n",
              "      <td>5</td>\n",
              "      <td>4.0</td>\n",
              "      <td>847434962</td>\n",
              "    </tr>\n",
              "    <tr>\n",
              "      <th>2</th>\n",
              "      <td>1</td>\n",
              "      <td>Toy Story (1995)</td>\n",
              "      <td>Adventure|Animation|Children|Comedy|Fantasy</td>\n",
              "      <td>7</td>\n",
              "      <td>4.5</td>\n",
              "      <td>1106635946</td>\n",
              "    </tr>\n",
              "    <tr>\n",
              "      <th>3</th>\n",
              "      <td>1</td>\n",
              "      <td>Toy Story (1995)</td>\n",
              "      <td>Adventure|Animation|Children|Comedy|Fantasy</td>\n",
              "      <td>15</td>\n",
              "      <td>2.5</td>\n",
              "      <td>1510577970</td>\n",
              "    </tr>\n",
              "    <tr>\n",
              "      <th>4</th>\n",
              "      <td>1</td>\n",
              "      <td>Toy Story (1995)</td>\n",
              "      <td>Adventure|Animation|Children|Comedy|Fantasy</td>\n",
              "      <td>17</td>\n",
              "      <td>4.5</td>\n",
              "      <td>1305696483</td>\n",
              "    </tr>\n",
              "    <tr>\n",
              "      <th>...</th>\n",
              "      <td>...</td>\n",
              "      <td>...</td>\n",
              "      <td>...</td>\n",
              "      <td>...</td>\n",
              "      <td>...</td>\n",
              "      <td>...</td>\n",
              "    </tr>\n",
              "    <tr>\n",
              "      <th>100831</th>\n",
              "      <td>193581</td>\n",
              "      <td>Black Butler: Book of the Atlantic (2017)</td>\n",
              "      <td>Action|Animation|Comedy|Fantasy</td>\n",
              "      <td>184</td>\n",
              "      <td>4.0</td>\n",
              "      <td>1537109082</td>\n",
              "    </tr>\n",
              "    <tr>\n",
              "      <th>100832</th>\n",
              "      <td>193583</td>\n",
              "      <td>No Game No Life: Zero (2017)</td>\n",
              "      <td>Animation|Comedy|Fantasy</td>\n",
              "      <td>184</td>\n",
              "      <td>3.5</td>\n",
              "      <td>1537109545</td>\n",
              "    </tr>\n",
              "    <tr>\n",
              "      <th>100833</th>\n",
              "      <td>193585</td>\n",
              "      <td>Flint (2017)</td>\n",
              "      <td>Drama</td>\n",
              "      <td>184</td>\n",
              "      <td>3.5</td>\n",
              "      <td>1537109805</td>\n",
              "    </tr>\n",
              "    <tr>\n",
              "      <th>100834</th>\n",
              "      <td>193587</td>\n",
              "      <td>Bungo Stray Dogs: Dead Apple (2018)</td>\n",
              "      <td>Action|Animation</td>\n",
              "      <td>184</td>\n",
              "      <td>3.5</td>\n",
              "      <td>1537110021</td>\n",
              "    </tr>\n",
              "    <tr>\n",
              "      <th>100835</th>\n",
              "      <td>193609</td>\n",
              "      <td>Andrew Dice Clay: Dice Rules (1991)</td>\n",
              "      <td>Comedy</td>\n",
              "      <td>331</td>\n",
              "      <td>4.0</td>\n",
              "      <td>1537157606</td>\n",
              "    </tr>\n",
              "  </tbody>\n",
              "</table>\n",
              "<p>100836 rows × 6 columns</p>\n",
              "</div>"
            ],
            "text/plain": [
              "        movieId                                      title  \\\n",
              "0             1                           Toy Story (1995)   \n",
              "1             1                           Toy Story (1995)   \n",
              "2             1                           Toy Story (1995)   \n",
              "3             1                           Toy Story (1995)   \n",
              "4             1                           Toy Story (1995)   \n",
              "...         ...                                        ...   \n",
              "100831   193581  Black Butler: Book of the Atlantic (2017)   \n",
              "100832   193583               No Game No Life: Zero (2017)   \n",
              "100833   193585                               Flint (2017)   \n",
              "100834   193587        Bungo Stray Dogs: Dead Apple (2018)   \n",
              "100835   193609        Andrew Dice Clay: Dice Rules (1991)   \n",
              "\n",
              "                                             genres  userId  rating  \\\n",
              "0       Adventure|Animation|Children|Comedy|Fantasy       1     4.0   \n",
              "1       Adventure|Animation|Children|Comedy|Fantasy       5     4.0   \n",
              "2       Adventure|Animation|Children|Comedy|Fantasy       7     4.5   \n",
              "3       Adventure|Animation|Children|Comedy|Fantasy      15     2.5   \n",
              "4       Adventure|Animation|Children|Comedy|Fantasy      17     4.5   \n",
              "...                                             ...     ...     ...   \n",
              "100831              Action|Animation|Comedy|Fantasy     184     4.0   \n",
              "100832                     Animation|Comedy|Fantasy     184     3.5   \n",
              "100833                                        Drama     184     3.5   \n",
              "100834                             Action|Animation     184     3.5   \n",
              "100835                                       Comedy     331     4.0   \n",
              "\n",
              "         timestamp  \n",
              "0        964982703  \n",
              "1        847434962  \n",
              "2       1106635946  \n",
              "3       1510577970  \n",
              "4       1305696483  \n",
              "...            ...  \n",
              "100831  1537109082  \n",
              "100832  1537109545  \n",
              "100833  1537109805  \n",
              "100834  1537110021  \n",
              "100835  1537157606  \n",
              "\n",
              "[100836 rows x 6 columns]"
            ]
          },
          "execution_count": 10,
          "metadata": {},
          "output_type": "execute_result"
        }
      ],
      "source": [
        "df = movies_df.merge(ratings_df, on = 'movieId')\n",
        "df"
      ]
    },
    {
      "cell_type": "code",
      "execution_count": null,
      "metadata": {
        "id": "4SzztV-N_Ls1",
        "outputId": "0bb1454d-2f2f-4047-d84f-637eee3a43c1"
      },
      "outputs": [
        {
          "name": "stdout",
          "output_type": "stream",
          "text": [
            "21 Jump Street (2012)\n",
            "Addams Family, The (1991)\n",
            "Aladdin (1992)\n",
            "Batman Begins (2005)\n",
            "Boondock Saints II: All Saints Day, The (2009)\n",
            "Captain America: Civil War (2016)\n",
            "Deadpool (2016)\n",
            "Fight Club (1999)\n",
            "Green Mile, The (1999)\n",
            "Indiana Jones and the Temple of Doom (1984)\n",
            "Jackass 2.5 (2007)\n",
            "Jungle Book, The (1967)\n",
            "King's Speech, The (2010)\n",
            "Kingsman: The Secret Service (2015)\n",
            "Opera (1987)\n",
            "Pan's Labyrinth (Laberinto del fauno, El) (2006)\n",
            "Predestination (2014)\n",
            "Suspiria (1977)\n",
            "The Godfather Trilogy: 1972-1990 (1992)\n",
            "Toy Story (1995)\n",
            "Visitor Q (Bizita Q) (2001)\n",
            "Willow (1988)\n"
          ]
        }
      ],
      "source": [
        "M_j = 'John Wick (2014)' # Title as input, now it's just one Movie\n",
        "recommended_movies = []\n",
        "\n",
        "# Find the movie in the database, and sort it by rating\n",
        "movie_db = df[df['title'] == M_j]\\\n",
        "    .sort_values(by='rating', ascending=False)\n",
        "\n",
        "# Get the first 5 users who liked this movie\n",
        "for user in movie_db.iloc[:5]['userId'].values:\n",
        "\n",
        "    # Get the rated movies for this user\n",
        "    rated_movies = df[df['userId'] == user]\n",
        "\n",
        "    # Get the five biggest rated movie by this user\n",
        "    rated_movies = rated_movies[rated_movies['title'] != M_j]\\\n",
        "        .sort_values(by = 'rating', ascending = False)\\\n",
        "            .iloc[:5]\n",
        "\n",
        "    # Add these to the recommendations\n",
        "    recommended_movies.extend(list(rated_movies['title'].values))\n",
        "\n",
        "recommended_movies = np.unique(recommended_movies)\n",
        "\n",
        "for movie in recommended_movies:\n",
        "    print(movie)"
      ]
    },
    {
      "cell_type": "markdown",
      "metadata": {
        "id": "8E9I4L-__Ls4"
      },
      "source": [
        "Now Weight each movie by the similarity on the genre feature"
      ]
    },
    {
      "cell_type": "code",
      "execution_count": null,
      "metadata": {
        "id": "93sjKTH3_Ls6"
      },
      "outputs": [],
      "source": [
        "gmovie_genres = df[df['title'] == M_j].iloc[0]['genres'].split('|')\n",
        "scores = {} # {title: score ...}\n",
        "\n",
        "for movie in recommended_movies:\n",
        "    movied = df[df['title'] == movie].iloc[0]\n",
        "    movie_genres = movied['genres'].split('|')\n",
        "    score = 0\n",
        "\n",
        "    # How many gmovie_genre can be found in movie_genres?\n",
        "    for gmovie_genre in gmovie_genres:\n",
        "        if gmovie_genre in movie_genres:\n",
        "            score += 1\n",
        "\n",
        "    scores[movie] = score\n",
        "\n",
        "#sort them on score and reverse it, because the bigger the score the better\n",
        "recommended_movies = sorted(scores, key=lambda x: scores[x])[::-1]"
      ]
    },
    {
      "cell_type": "markdown",
      "metadata": {
        "id": "corJBY8I_Ls7"
      },
      "source": [
        "The Recommendations are now Weighted."
      ]
    },
    {
      "cell_type": "code",
      "execution_count": null,
      "metadata": {
        "id": "skrT1iRn_Ls9",
        "outputId": "faee9408-28d4-4217-a651-d6cacfb79e11"
      },
      "outputs": [
        {
          "name": "stdout",
          "output_type": "stream",
          "text": [
            "Predestination (2014)\n",
            "Fight Club (1999)\n",
            "Captain America: Civil War (2016)\n",
            "Boondock Saints II: All Saints Day, The (2009)\n",
            "Willow (1988)\n",
            "Pan's Labyrinth (Laberinto del fauno, El) (2006)\n",
            "Kingsman: The Secret Service (2015)\n",
            "Indiana Jones and the Temple of Doom (1984)\n",
            "Deadpool (2016)\n",
            "Batman Begins (2005)\n",
            "21 Jump Street (2012)\n",
            "Visitor Q (Bizita Q) (2001)\n",
            "Toy Story (1995)\n",
            "The Godfather Trilogy: 1972-1990 (1992)\n",
            "Suspiria (1977)\n",
            "Opera (1987)\n",
            "King's Speech, The (2010)\n",
            "Jungle Book, The (1967)\n",
            "Jackass 2.5 (2007)\n",
            "Green Mile, The (1999)\n",
            "Aladdin (1992)\n",
            "Addams Family, The (1991)\n"
          ]
        }
      ],
      "source": [
        "for movie in recommended_movies:\n",
        "    print(movie)"
      ]
    }
  ],
  "metadata": {
    "kernelspec": {
      "display_name": "Python 3",
      "language": "python",
      "name": "python3"
    },
    "language_info": {
      "codemirror_mode": {
        "name": "ipython",
        "version": 3
      },
      "file_extension": ".py",
      "mimetype": "text/x-python",
      "name": "python",
      "nbconvert_exporter": "python",
      "pygments_lexer": "ipython3",
      "version": "3.10.6"
    },
    "orig_nbformat": 4,
    "vscode": {
      "interpreter": {
        "hash": "f263b9edec441361bf4e854813fdc9acb37a94c837e0bb7b1f3c4b82a94101de"
      }
    },
    "colab": {
      "provenance": []
    }
  },
  "nbformat": 4,
  "nbformat_minor": 0
}